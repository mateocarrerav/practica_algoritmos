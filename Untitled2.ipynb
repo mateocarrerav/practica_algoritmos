{
 "cells": [
  {
   "cell_type": "code",
   "execution_count": 1,
   "metadata": {},
   "outputs": [],
   "source": [
    "class BFS:\n",
    "\n",
    "    @staticmethod    \n",
    "    def search(start,stop):\n",
    "        \"\"\"\n",
    "        Realiza la búsqueda primero en anchura\n",
    "        :param start: el estado inicial\n",
    "        :param stop: una función de paro\n",
    "        \"\"\"\n",
    "        # usamos deque para la agenda que será una cola\n",
    "        agenda = deque()\n",
    "        # un conjunto basado en tabla de dispersión para\n",
    "        # registrar los estados expandidos\n",
    "        explored = set()\n",
    "        # verificamos la condición trivial\n",
    "        if(stop(start)):\n",
    "            # regresamos la ruta trivial\n",
    "            return trajectory(start)\n",
    "        # agregamos el primer estado a la agenda\n",
    "        agenda.append(start)\n",
    "        # mientras la agenda tenga elementos\n",
    "        while(agenda):\n",
    "            # sacamos el elemento al frente de la cola\n",
    "            nodo = agenda.pop()\n",
    "            # lo agregamos a los expandidos\n",
    "            explored.add(nodo)\n",
    "            # para cada sucesor del nodo\n",
    "            for child in nodo.expand():\n",
    "                # si el sucesor es la meta \n",
    "                if stop(child):\n",
    "                    # recuperamos la ruta y la regresamos\n",
    "                    return trajectory(child)\n",
    "                # si el nodo no se ha previamente expandido\n",
    "                elif not child in explored:\n",
    "                    # agregamos los sucesores a la agenda\n",
    "                    agenda.append(child)\n",
    "        # en caso de que no haya ruta\n",
    "        # (instrucción redundante)\n",
    "        return None\n",
    "    \n"
   ]
  },
  {
   "cell_type": "code",
   "execution_count": null,
   "metadata": {},
   "outputs": [],
   "source": []
  },
  {
   "cell_type": "code",
   "execution_count": null,
   "metadata": {},
   "outputs": [],
   "source": []
  }
 ],
 "metadata": {
  "kernelspec": {
   "display_name": "Python 3",
   "language": "python",
   "name": "python3"
  },
  "language_info": {
   "codemirror_mode": {
    "name": "ipython",
    "version": 3
   },
   "file_extension": ".py",
   "mimetype": "text/x-python",
   "name": "python",
   "nbconvert_exporter": "python",
   "pygments_lexer": "ipython3",
   "version": "3.7.6"
  }
 },
 "nbformat": 4,
 "nbformat_minor": 4
}
